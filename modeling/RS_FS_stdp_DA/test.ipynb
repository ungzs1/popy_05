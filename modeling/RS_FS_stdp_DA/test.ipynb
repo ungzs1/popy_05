{
 "cells": [
  {
   "cell_type": "code",
   "execution_count": 1,
   "metadata": {},
   "outputs": [],
   "source": [
    "from model import Network\n",
    "\n",
    "import numpy as np\n",
    "import matplotlib.pyplot as plt"
   ]
  },
  {
   "cell_type": "code",
   "execution_count": 2,
   "metadata": {},
   "outputs": [],
   "source": [
    "# init a network\n",
    "rnn = Network(tstop=5)"
   ]
  },
  {
   "cell_type": "code",
   "execution_count": 3,
   "metadata": {},
   "outputs": [
    {
     "name": "stderr",
     "output_type": "stream",
     "text": [
      "time simulated:   0%|          | 0.016064999999999583/5 [00:18<1:34:34, 1138.58s/s] "
     ]
    },
    {
     "ename": "KeyboardInterrupt",
     "evalue": "",
     "output_type": "error",
     "traceback": [
      "\u001b[0;31m---------------------------------------------------------------------------\u001b[0m",
      "\u001b[0;31mKeyboardInterrupt\u001b[0m                         Traceback (most recent call last)",
      "\u001b[1;32m/Users/zsombi/Library/CloudStorage/OneDrive-Personal/PoPy/modeling/RS_FS_stdp_DA/test.ipynb Cell 3\u001b[0m line \u001b[0;36m1\n\u001b[0;32m----> <a href='vscode-notebook-cell:/Users/zsombi/Library/CloudStorage/OneDrive-Personal/PoPy/modeling/RS_FS_stdp_DA/test.ipynb#W2sZmlsZQ%3D%3D?line=0'>1</a>\u001b[0m rnn\u001b[39m.\u001b[39;49mtime_simulation()\n",
      "File \u001b[0;32m~/Library/CloudStorage/OneDrive-Personal/PoPy/modeling/RS_FS_stdp_DA/model.py:334\u001b[0m, in \u001b[0;36mNetwork.time_simulation\u001b[0;34m(self)\u001b[0m\n\u001b[1;32m    331\u001b[0m     \u001b[39mself\u001b[39m\u001b[39m.\u001b[39msample_population_activity(timet, dopamine)\n\u001b[1;32m    333\u001b[0m \u001b[39m# 4. Update biophysical properties of neurons\u001b[39;00m\n\u001b[0;32m--> 334\u001b[0m \u001b[39mself\u001b[39;49m\u001b[39m.\u001b[39;49mupdate_biophysical_properties(timet)\n\u001b[1;32m    336\u001b[0m \u001b[39m# 5. Update G and Q, based on E/I type of pre and post synaptic neurons and their connection\u001b[39;00m\n\u001b[1;32m    337\u001b[0m \u001b[39mself\u001b[39m\u001b[39m.\u001b[39mupdate_G_Q(timet)\n",
      "File \u001b[0;32m~/Library/CloudStorage/OneDrive-Personal/PoPy/modeling/RS_FS_stdp_DA/model.py:165\u001b[0m, in \u001b[0;36mNetwork.update_biophysical_properties\u001b[0;34m(self, timet)\u001b[0m\n\u001b[1;32m    161\u001b[0m     \u001b[39mself\u001b[39m\u001b[39m.\u001b[39mGE_gabaa[i] \u001b[39m+\u001b[39m\u001b[39m=\u001b[39m \u001b[39mself\u001b[39m\u001b[39m.\u001b[39mstepp \u001b[39m*\u001b[39m (\u001b[39m-\u001b[39m\u001b[39mself\u001b[39m\u001b[39m.\u001b[39mGE_gabaa[i] \u001b[39m/\u001b[39m \u001b[39mself\u001b[39m\u001b[39m.\u001b[39mparams\u001b[39m.\u001b[39mtau_decay_gabaa)\n\u001b[1;32m    163\u001b[0m     \u001b[39mself\u001b[39m\u001b[39m.\u001b[39mGE_gabab[i] \u001b[39m+\u001b[39m\u001b[39m=\u001b[39m \u001b[39mself\u001b[39m\u001b[39m.\u001b[39mstepp \u001b[39m*\u001b[39m (\u001b[39m-\u001b[39m\u001b[39mself\u001b[39m\u001b[39m.\u001b[39mGE_gabab[i] \u001b[39m/\u001b[39m \u001b[39mself\u001b[39m\u001b[39m.\u001b[39mparams\u001b[39m.\u001b[39mtau_decay_gabaB \u001b[39m+\u001b[39m\n\u001b[1;32m    164\u001b[0m                                       \u001b[39mself\u001b[39m\u001b[39m.\u001b[39mparams\u001b[39m.\u001b[39malpha_gabaB \u001b[39m*\u001b[39m \u001b[39mself\u001b[39m\u001b[39m.\u001b[39mQE_gabab[i])\n\u001b[0;32m--> 165\u001b[0m     \u001b[39mself\u001b[39m\u001b[39m.\u001b[39mQE_gabab[i] \u001b[39m+\u001b[39m\u001b[39m=\u001b[39m \u001b[39mself\u001b[39m\u001b[39m.\u001b[39mstepp \u001b[39m*\u001b[39m (\u001b[39m-\u001b[39m\u001b[39mself\u001b[39m\u001b[39m.\u001b[39mQE_gabab[i] \u001b[39m/\u001b[39m \u001b[39mself\u001b[39m\u001b[39m.\u001b[39mparams\u001b[39m.\u001b[39mtau_rise_gabaB)\n\u001b[1;32m    167\u001b[0m \u001b[39m# inhibitory units: GI, QI, v\u001b[39;00m\n\u001b[1;32m    168\u001b[0m \u001b[39mfor\u001b[39;00m i \u001b[39min\u001b[39;00m \u001b[39mrange\u001b[39m(\u001b[39mself\u001b[39m\u001b[39m.\u001b[39mparams\u001b[39m.\u001b[39mdimmexc, \u001b[39mself\u001b[39m\u001b[39m.\u001b[39mparams\u001b[39m.\u001b[39mdim):\n",
      "\u001b[0;31mKeyboardInterrupt\u001b[0m: "
     ]
    }
   ],
   "source": [
    "rnn.time_simulation()"
   ]
  }
 ],
 "metadata": {
  "kernelspec": {
   "display_name": "sbri3",
   "language": "python",
   "name": "python3"
  },
  "language_info": {
   "codemirror_mode": {
    "name": "ipython",
    "version": 3
   },
   "file_extension": ".py",
   "mimetype": "text/x-python",
   "name": "python",
   "nbconvert_exporter": "python",
   "pygments_lexer": "ipython3",
   "version": "3.10.13"
  },
  "orig_nbformat": 4
 },
 "nbformat": 4,
 "nbformat_minor": 2
}
