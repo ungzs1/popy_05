{
 "cells": [
  {
   "cell_type": "code",
   "execution_count": 1,
   "metadata": {},
   "outputs": [],
   "source": [
    "import numpy as np\n",
    "import pandas as pd\n",
    "import matplotlib.pyplot as plt\n",
    "\n",
    "import tqdm"
   ]
  },
  {
   "cell_type": "code",
   "execution_count": 2,
   "metadata": {},
   "outputs": [],
   "source": [
    "def get_concat_data(monkey):\n",
    "    import os\n",
    "    import sys\n",
    "    sys.path.append(\"C:\\ZSOMBI\\OneDrive\\PoPy\")\n",
    "    import popy.config as cfg\n",
    "\n",
    "    base_path = cfg.PROJECT_PATH_LOCAL\n",
    "    data_path = os.path.join(base_path, 'data', 'processed', 'behavior', 'concatenated_behavior_data.pkl')\n",
    "    concat_data = pd.read_pickle(data_path)\n",
    "\n",
    "    return concat_data[concat_data['monkey'] == monkey]\n",
    "\n",
    "def prepare_concat_data(data):\n",
    "    data = data.dropna()\n",
    "\n",
    "    hist_fb = data[['R-1', 'R-2', 'R-3', 'R-4', 'R-5', 'R-6', 'R-7', 'R-8']].values.astype(int)\n",
    "    hist_fb = np.flip(hist_fb, axis=1)  # flip to get the most recent feedback at the end\n",
    "\n",
    "    # create dataset with columns ['choice_prev', 'choice', 'hist_fb'], data is data['target-1'], data['target'], hist_fb\n",
    "    df = pd.DataFrame.from_dict({'choice_prev': data['target-1'], 'choice': data['target'], 'hist_fb': hist_fb.tolist()})\n",
    "\n",
    "    return df\n"
   ]
  },
  {
   "cell_type": "markdown",
   "metadata": {},
   "source": [
    "# 1. Prepare data"
   ]
  },
  {
   "cell_type": "code",
   "execution_count": 3,
   "metadata": {},
   "outputs": [
    {
     "name": "stdout",
     "output_type": "stream",
     "text": [
      "Using OFFICE path\n",
      "Inserm drive is not accessible\n"
     ]
    },
    {
     "data": {
      "text/html": [
       "<div>\n",
       "<style scoped>\n",
       "    .dataframe tbody tr th:only-of-type {\n",
       "        vertical-align: middle;\n",
       "    }\n",
       "\n",
       "    .dataframe tbody tr th {\n",
       "        vertical-align: top;\n",
       "    }\n",
       "\n",
       "    .dataframe thead th {\n",
       "        text-align: right;\n",
       "    }\n",
       "</style>\n",
       "<table border=\"1\" class=\"dataframe\">\n",
       "  <thead>\n",
       "    <tr style=\"text-align: right;\">\n",
       "      <th></th>\n",
       "      <th>choice_prev</th>\n",
       "      <th>choice</th>\n",
       "      <th>hist_fb</th>\n",
       "    </tr>\n",
       "  </thead>\n",
       "  <tbody>\n",
       "    <tr>\n",
       "      <th>8</th>\n",
       "      <td>2.0</td>\n",
       "      <td>2.0</td>\n",
       "      <td>[1, 0, 1, 0, 1, 0, 1, 1]</td>\n",
       "    </tr>\n",
       "    <tr>\n",
       "      <th>9</th>\n",
       "      <td>2.0</td>\n",
       "      <td>2.0</td>\n",
       "      <td>[0, 1, 0, 1, 0, 1, 1, 1]</td>\n",
       "    </tr>\n",
       "    <tr>\n",
       "      <th>10</th>\n",
       "      <td>2.0</td>\n",
       "      <td>2.0</td>\n",
       "      <td>[1, 0, 1, 0, 1, 1, 1, 1]</td>\n",
       "    </tr>\n",
       "    <tr>\n",
       "      <th>11</th>\n",
       "      <td>2.0</td>\n",
       "      <td>2.0</td>\n",
       "      <td>[0, 1, 0, 1, 1, 1, 1, 1]</td>\n",
       "    </tr>\n",
       "    <tr>\n",
       "      <th>12</th>\n",
       "      <td>2.0</td>\n",
       "      <td>2.0</td>\n",
       "      <td>[1, 0, 1, 1, 1, 1, 1, 1]</td>\n",
       "    </tr>\n",
       "  </tbody>\n",
       "</table>\n",
       "</div>"
      ],
      "text/plain": [
       "    choice_prev  choice                   hist_fb\n",
       "8           2.0     2.0  [1, 0, 1, 0, 1, 0, 1, 1]\n",
       "9           2.0     2.0  [0, 1, 0, 1, 0, 1, 1, 1]\n",
       "10          2.0     2.0  [1, 0, 1, 0, 1, 1, 1, 1]\n",
       "11          2.0     2.0  [0, 1, 0, 1, 1, 1, 1, 1]\n",
       "12          2.0     2.0  [1, 0, 1, 1, 1, 1, 1, 1]"
      ]
     },
     "execution_count": 3,
     "metadata": {},
     "output_type": "execute_result"
    }
   ],
   "source": [
    "# should be just a loading...\n",
    "\n",
    "# load full concatenated data\n",
    "data_concat = get_concat_data(monkey='ka')\n",
    "\n",
    "# prepare data for training\n",
    "data = prepare_concat_data(data_concat)\n",
    "\n",
    "data.head()\n"
   ]
  },
  {
   "cell_type": "markdown",
   "metadata": {},
   "source": [
    "# 2. Compute LL"
   ]
  },
  {
   "cell_type": "code",
   "execution_count": 4,
   "metadata": {},
   "outputs": [],
   "source": [
    "def compute_value(alpha, hist_fb):\n",
    "    len_hist = len(hist_fb)\n",
    "\n",
    "    weights = np.array([alpha * (1-alpha) ** i for i in range(len_hist)])  # weights for each feedback from the exponential recency-weighting formula (direct derivation of the Rescorla-Wagner model)\n",
    "    weights = weights / np.sum(weights)  # normalize weights\n",
    "\n",
    "    V = np.sum(weights * hist_fb[::-1])\n",
    "\n",
    "    return V\n",
    "\n",
    "def compute_likelihood(choice, choice_prev, hist_fb, alpha, beta=50, v0=.3):\n",
    "    # compute value\n",
    "    V = compute_value(alpha, hist_fb)\n",
    "\n",
    "    # probab of shift or stay using softmax\n",
    "    p_stay = np.exp(beta * V) / (np.exp(beta * V) + np.exp(beta * v0))\n",
    "    p_shift = np.exp(beta * v0) / (np.exp(beta * V) + np.exp(beta * v0))\n",
    "\n",
    "    # probabof decision\n",
    "    if choice == choice_prev:\n",
    "        likelihood = p_stay\n",
    "    else:\n",
    "        likelihood = p_shift## * .5\n",
    "\n",
    "    return np.log(likelihood)"
   ]
  },
  {
   "cell_type": "code",
   "execution_count": 5,
   "metadata": {},
   "outputs": [
    {
     "name": "stderr",
     "output_type": "stream",
     "text": [
      "100%|██████████| 660/660 [1:02:46<00:00,  5.71s/it]\n"
     ]
    }
   ],
   "source": [
    "alphas, v0s = np.linspace(0.35, .65, 10), np.linspace(0, .35, 11)\n",
    "betas = np.logspace(np.log10(5), np.log10(20), 6)\n",
    "likelihoods = np.empty((len(alphas), len(betas), len(v0s)))\n",
    "\n",
    "\n",
    "pbar = tqdm.tqdm(total=len(alphas) * len(betas) * len(v0s))\n",
    "for a, alpha in enumerate(alphas):\n",
    "    for b, beta in enumerate(betas):\n",
    "        for v, v0 in enumerate(v0s):\n",
    "            pbar.update(1)\n",
    "            likelihood = 0\n",
    "            for i, row in data.iterrows():\n",
    "                likelihood += compute_likelihood(alpha=alpha, beta=beta, v0=v0, choice=row['choice'], choice_prev=row['choice_prev'], hist_fb=row['hist_fb'])\n",
    "\n",
    "            likelihoods[a, b, v] = likelihood\n",
    "\n",
    "pbar.close()\n",
    "\n",
    "# save likelihoods\n",
    "np.save('likelihoods_2.npy', likelihoods)\n"
   ]
  },
  {
   "cell_type": "markdown",
   "metadata": {},
   "source": [
    "# 3. Analyse LLs"
   ]
  },
  {
   "cell_type": "code",
   "execution_count": 1,
   "metadata": {},
   "outputs": [
    {
     "ename": "NameError",
     "evalue": "name 'likelihoods' is not defined",
     "output_type": "error",
     "traceback": [
      "\u001b[1;31m---------------------------------------------------------------------------\u001b[0m",
      "\u001b[1;31mNameError\u001b[0m                                 Traceback (most recent call last)",
      "Cell \u001b[1;32mIn[1], line 5\u001b[0m\n\u001b[0;32m      1\u001b[0m \u001b[39mimport\u001b[39;00m \u001b[39mmatplotlib\u001b[39;00m\u001b[39m.\u001b[39;00m\u001b[39mpyplot\u001b[39;00m \u001b[39mas\u001b[39;00m \u001b[39mplt\u001b[39;00m\n\u001b[0;32m      3\u001b[0m fig, ax \u001b[39m=\u001b[39m plt\u001b[39m.\u001b[39msubplots()\n\u001b[1;32m----> 5\u001b[0m \u001b[39mmap\u001b[39m \u001b[39m=\u001b[39m ax\u001b[39m.\u001b[39mimshow(likelihoods[:, \u001b[39m-\u001b[39m\u001b[39m1\u001b[39m, :]\u001b[39m/\u001b[39m\u001b[39m1000\u001b[39m)\n\u001b[0;32m      7\u001b[0m ax\u001b[39m.\u001b[39mset_xlabel(\u001b[39m'\u001b[39m\u001b[39mv0\u001b[39m\u001b[39m'\u001b[39m)\n\u001b[0;32m      8\u001b[0m ax\u001b[39m.\u001b[39mset_ylabel(\u001b[39m'\u001b[39m\u001b[39malpha\u001b[39m\u001b[39m'\u001b[39m)\n",
      "\u001b[1;31mNameError\u001b[0m: name 'likelihoods' is not defined"
     ]
    },
    {
     "data": {
      "image/png": "[encoded data removed]",
      "text/plain": [
       "<Figure size 640x480 with 1 Axes>"
      ]
     },
     "metadata": {},
     "output_type": "display_data"
    }
   ],
   "source": [
    "import matplotlib.pyplot as plt\n",
    "\n",
    "fig, ax = plt.subplots()\n",
    "\n",
    "map = ax.imshow(likelihoods[:, -1, :]/1000)\n",
    "\n",
    "ax.set_xlabel('v0')\n",
    "ax.set_ylabel('alpha')\n",
    "\n",
    "ax.set_yticks(np.arange(len(alphas)))\n",
    "ax.set_xticks(np.arange(len(v0s)))\n",
    "\n",
    "ax.set_yticklabels(np.round(alphas, 2))\n",
    "ax.set_xticklabels(np.round(v0s, 2))\n",
    "\n",
    "# colorbar\n",
    "cbar = fig.colorbar(map, ax=ax)\n",
    "cbar.set_label('log likelihood (*1000)')\n",
    "\n",
    "# x at minima\n",
    "maxima = np.where(likelihoods == np.max(likelihoods))\n",
    "ax.scatter(maxima[1], maxima[0], marker='o', color='black', label='maxima')\n",
    "\n",
    "ax.legend()\n",
    "plt.show()\n"
   ]
  },
  {
   "cell_type": "markdown",
   "metadata": {},
   "source": [
    "# 4. Plot heatmap and find θ^(opt)"
   ]
  },
  {
   "cell_type": "markdown",
   "metadata": {},
   "source": [
    "df"
   ]
  }
 ],
 "metadata": {
  "kernelspec": {
   "display_name": "popy",
   "language": "python",
   "name": "python3"
  },
  "language_info": {
   "codemirror_mode": {
    "name": "ipython",
    "version": 3
   },
   "file_extension": ".py",
   "mimetype": "text/x-python",
   "name": "python",
   "nbconvert_exporter": "python",
   "pygments_lexer": "ipython3",
   "version": "3.10.9"
  },
  "orig_nbformat": 4
 },
 "nbformat": 4,
 "nbformat_minor": 2
}
