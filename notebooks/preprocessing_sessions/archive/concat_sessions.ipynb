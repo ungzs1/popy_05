{
 "cells": [
  {
   "cell_type": "code",
   "execution_count": null,
   "metadata": {},
   "outputs": [],
   "source": [
    "#%%\n",
    "import sys\n",
    "import os\n",
    "sys.path.append(\"C:\\ZSOMBI\\OneDrive\\PoPy\")\n",
    "\n",
    "import popy.config as cfg\n",
    "from popy.behavior_data_tools import drop_time_fields, add_history_of_feedback, add_switch_info\n",
    "\n",
    "import pandas as pd"
   ]
  },
  {
   "cell_type": "code",
   "execution_count": null,
   "metadata": {},
   "outputs": [],
   "source": [
    "def behav_processor(session_data):\n",
    "    session_data = drop_time_fields(session_data)  # drop time fields\n",
    "    session_data = add_history_of_feedback(session_data, 8, one_column=False)\n",
    "    session_data = add_switch_info(session_data)  # add switch info\n",
    "    session_data['target-1'] = session_data['target'].shift(1)  # add target-1\n",
    "    return session_data"
   ]
  },
  {
   "cell_type": "code",
   "execution_count": null,
   "metadata": {},
   "outputs": [],
   "source": [
    "#%%\n",
    "base_path = cfg.PROJECT_PATH_LOCAL\n",
    "out_path = os.path.join(base_path, 'data', 'processed', 'behavior')\n",
    "\n",
    "# read fnames in dir\n",
    "fnames = os.listdir(out_path)\n",
    "\n",
    "df_concat = pd.DataFrame()\n",
    "\n",
    "# load files one by one and process them\n",
    "for f in fnames:\n",
    "        monkey, session = f.split('_')[:2]\n",
    "        session_data = pd.read_pickle(out_path + '\\\\' + f)  # load data\n",
    "        # add session info (monkey, session)\n",
    "        session_data['monkey'] = monkey\n",
    "        session_data['session'] = session\n",
    "        # process data (add and drop columns)  --  only modify this function to customize concatenation\n",
    "        session_data = behav_processor(session_data)\n",
    "        # concatenate\n",
    "        df_concat = pd.concat([df_concat, session_data], ignore_index=True)"
   ]
  },
  {
   "cell_type": "code",
   "execution_count": null,
   "metadata": {},
   "outputs": [],
   "source": [
    "# rearrange columns: monkey, session, trialid, blockid, best target, target, feedback, switch, history of feedback\n",
    "df_concat = df_concat[['monkey', 'session', 'trial_id', 'block_id', 'best_target', 'target', 'target-1', 'feedback', 'switch', 'R-1', 'R-2', 'R-3', 'R-4', 'R-5', 'R-6', 'R-7', 'R-8']]\n",
    "\n",
    "df_concat"
   ]
  },
  {
   "cell_type": "code",
   "execution_count": null,
   "metadata": {},
   "outputs": [],
   "source": [
    "# save concatenated data\n",
    "df_concat.to_pickle(out_path + '\\\\concatenated_behavior_data.pkl')"
   ]
  }
 ],
 "metadata": {
  "kernelspec": {
   "display_name": "popy",
   "language": "python",
   "name": "python3"
  },
  "language_info": {
   "codemirror_mode": {
    "name": "ipython",
    "version": 3
   },
   "file_extension": ".py",
   "mimetype": "text/x-python",
   "name": "python",
   "nbconvert_exporter": "python",
   "pygments_lexer": "ipython3",
   "version": "3.10.9"
  },
  "orig_nbformat": 4
 },
 "nbformat": 4,
 "nbformat_minor": 2
}
