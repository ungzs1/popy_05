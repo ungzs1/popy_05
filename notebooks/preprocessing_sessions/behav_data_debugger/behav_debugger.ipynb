"""
This script was used to debug the behaviour data. It was used to find the errors in the behaviour data and to find the errors in the code that extracts the timestamps and events from the raw behaviour data.

Normally this code is not needed anymore...
"""

#%%
import sys
sys.path.append("C:\ZSOMBI\OneDrive\PoPy")

import pandas as pd
import numpy as np
import scipy.io as sio

from popy.io_tools import load_raw_behav_mat, get_data
from notebooks.behav_analysis.create_overall_statistics_utils import is_file_valid
from popy.behavior_data_tools import add_phase_info

monkey, session = 'ka', '230520'
rec = load_raw_behav_mat(monkey, session, 'raw_behaviour')
proc_behav = get_data(monkey, session, 'behaviour')
proc_behav = add_phase_info(proc_behav)

# locate errors
if is_file_valid(rec):
    print('file is valid')

# get corresponding filename (to load raw data)
all_session_info = pd.read_pickle('C:\\ZSOMBI\\OneDrive\\PoPy\\data\\recordings_summary.pickle')
fname = all_session_info.loc[(all_session_info['monkey'] == monkey) & (all_session_info['session'] == session), 'behav_file_name'].values[0]
print(fname)

# load mat file
mat = sio.loadmat(f'C:\\ZSOMBI\\OneDrive\\PoPy\\data\\recordings\\{fname}')
# save mat file
behav = mat['behav']

#%% Correct errors
mat['behav'] = behav[:2414, :]
#mat['behav'][4659, 0] = 61
#mat['behav'] = np.delete(mat['behav'], 6900, 0)
#t = (mat['behav'][3958, 1] + mat['behav'][39, 1])/2
#mat['behav'] = np.insert(mat['behav'], 3180, [100, t], axis=0)

behav_new = mat['behav']

#sio.savemat(f'C:\\ZSOMBI\\OneDrive\\PoPy\\data\\recordings\\{fname}', mat)
