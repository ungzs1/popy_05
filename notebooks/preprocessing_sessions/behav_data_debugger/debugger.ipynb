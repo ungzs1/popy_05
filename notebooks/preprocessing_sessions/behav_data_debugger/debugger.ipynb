{
 "cells": [
  {
   "cell_type": "code",
   "execution_count": 1,
   "metadata": {},
   "outputs": [
    {
     "name": "stdout",
     "output_type": "stream",
     "text": [
      "Using OFFICE path\n",
      "Inserm drive is not accessible\n"
     ]
    }
   ],
   "source": [
    "\"\"\"\n",
    "This script was used to debug the behaviour data. It was used to find the errors in the behaviour data and to find the errors in the code that extracts the timestamps and events from the raw behaviour data.\n",
    "\n",
    "Normally this code is not needed anymore...\n",
    "\"\"\"\n",
    "\n",
    "#%%\n",
    "import sys\n",
    "sys.path.append(\"C:\\ZSOMBI\\OneDrive\\PoPy\")\n",
    "\n",
    "import pandas as pd\n",
    "import numpy as np\n",
    "import scipy.io as sio\n",
    "\n",
    "from popy.io_tools import load_raw_behav_mat\n",
    "from popy.io_tools import get_behavior\n",
    "\n",
    "def is_file_valid(behav):\n",
    "    \"\"\"\n",
    "    Tries to find errors in the behaviour data. Returns True if no errors were found, False otherwise. However, it is not guaranteed that the function will find all errors.\n",
    "    \"\"\"\n",
    "    locs_trial_start = np.argwhere(behav[:, 0] == 100)\n",
    "    locs_trial_end = np.argwhere(behav[:, 0] == 101)\n",
    "\n",
    "    # trial starts NOT equal to trial ends\n",
    "    if len(locs_trial_start) != len(locs_trial_end):\n",
    "        print('Num trial start events s not equal to num trial end events')\n",
    "        if locs_trial_start[0][0] > locs_trial_end[0][0]:\n",
    "            print('\\tperhaps missing first trial start')\n",
    "        if locs_trial_end[-1][0] < locs_trial_start[-1][0]:\n",
    "            print('\\tperhaps missing last trial end')\n",
    "\n",
    "        # trial ends should be followed by trial starts, except when it if a block end (in this case there are 2 excess values in between)\n",
    "        for start_id in locs_trial_start[1:]:  # ignore first one as it has no previous\n",
    "            start_id = start_id[0]\n",
    "            if not (behav[start_id - 1, 0] == 101 or behav[start_id - 3, 0] == 101):\n",
    "                print('\\tmissing trial end at: ', start_id)\n",
    "        for end_id in locs_trial_end[:-1] :  # ignore last one as it has no following\n",
    "            end_id = end_id[0]\n",
    "            if not (behav[end_id + 1, 0] == 100 or behav[end_id + 3, 0] == 100):\n",
    "                print('\\tmissing trial start at: ', end_id)\n",
    "\n",
    "        return False\n",
    "\n",
    "    for start_id, end_id in zip(locs_trial_start, locs_trial_end):\n",
    "        start_id, end_id = start_id[0], end_id[0]\n",
    "        # behav of current trial\n",
    "        behav_curr = behav[start_id:end_id+1, 0]\n",
    "\n",
    "        # num events\n",
    "        all_events = {\n",
    "            'N_trial_start': np.count_nonzero(behav_curr == 100),\n",
    "            'N_lever_val': np.count_nonzero(behav_curr == 62),\n",
    "            'N_lever_release': np.count_nonzero(behav_curr == 64),\n",
    "            'N_target_valid': np.count_nonzero(behav_curr== 125),\n",
    "            'N_fb': np.count_nonzero((behav_curr == 65) | (behav_curr == 66)),\n",
    "            'N_trial_end': np.count_nonzero(behav_curr == 101),\n",
    "            'N_no_touch': np.count_nonzero(behav_curr == 252)\n",
    "        }\n",
    "\n",
    "        # is there a value in all_events higher than 1?\n",
    "        if np.any(np.array(list(all_events.values())) > 1):\n",
    "            multiples = np.argwhere(np.array(list(all_events.values())) > 1)\n",
    "            print(f'corrupt trial between index {start_id} and {end_id}')\n",
    "            print(f'\\tmultiple behav code for {np.array(list(all_events.keys()))[multiples]}')\n",
    "            return False\n",
    "\n",
    "        # when there is not a 'no touch' event, i.e. correct trial\n",
    "        if all_events['N_no_touch'] == 0:\n",
    "            N_events = np.array(list(all_events.values()))[:-1] # all events - remove last element (N_no_touch)\n",
    "            if all([x == 1 for x in N_events]):  # all events must be 1, in this case its a correct trial\n",
    "                continue \n",
    "            else:\n",
    "                # is there any value of 0?\n",
    "                zeros = np.argwhere(N_events == 0)\n",
    "                print(f'corrupt trial between index {start_id} and {end_id}')\n",
    "                print(f'\\tmissing behav code for {np.array(list(all_events.keys()))[zeros]}')\n",
    "                return False\n",
    "        else:  # in case there is a 'no touch' event, i.e. incorrect trial\n",
    "            N_events = np.array(list(all_events.values()))[:-2]  # all events - remove last 2 elements (N_no_touch, N_trial_end)\n",
    "            # is the ordering right?\n",
    "            ordering_right = [x >= y for x, y in zip(N_events[:-1], N_events[1:])]\n",
    "            if all(ordering_right):\n",
    "                continue\n",
    "            else:\n",
    "                print(f'corrupt trial between index {start_id} and {end_id}')\n",
    "                print('there is a no touch event, but something is missing from before')\n",
    "                return False\n",
    "            \n",
    "    # if it didnt find an error, return True\n",
    "    return True"
   ]
  },
  {
   "cell_type": "markdown",
   "metadata": {},
   "source": [
    "# Check if file is valid"
   ]
  },
  {
   "cell_type": "markdown",
   "metadata": {},
   "source": [
    "Processing po 261020\n",
    "Warning: no best target of multiple best targets in block (0)."
   ]
  },
  {
   "cell_type": "code",
   "execution_count": 2,
   "metadata": {},
   "outputs": [
    {
     "name": "stdout",
     "output_type": "stream",
     "text": [
      "file is valid\n"
     ]
    }
   ],
   "source": [
    "monkey, session = 'ka', '310522'\n",
    "\n",
    "rec = load_raw_behav_mat(monkey, session, 'C:\\\\ZSOMBI\\\\OneDrive\\\\PoPy\\\\data\\\\recordings\\\\behavior')\n",
    "\n",
    "# locate errors\n",
    "if is_file_valid(rec):\n",
    "    print('file is valid')"
   ]
  },
  {
   "cell_type": "code",
   "execution_count": 3,
   "metadata": {},
   "outputs": [
    {
     "data": {
      "text/plain": [
       "array([[1.00000000e+02, 6.30830000e+01],\n",
       "       [5.10000000e+01, 6.30836333e+01],\n",
       "       [1.00000000e+00, 6.31230000e+01],\n",
       "       ...,\n",
       "       [1.44000000e+02, 2.01292477e+03],\n",
       "       [1.44000000e+02, 2.01292717e+03],\n",
       "       [1.01000000e+02, 2.01338057e+03]])"
      ]
     },
     "execution_count": 3,
     "metadata": {},
     "output_type": "execute_result"
    }
   ],
   "source": [
    "rec"
   ]
  },
  {
   "cell_type": "markdown",
   "metadata": {},
   "source": [
    "# Check if file can be converted without problems"
   ]
  },
  {
   "cell_type": "code",
   "execution_count": 4,
   "metadata": {},
   "outputs": [
    {
     "ename": "ValueError",
     "evalue": "Trial id 232 not found in any block.",
     "output_type": "error",
     "traceback": [
      "\u001b[1;31m---------------------------------------------------------------------------\u001b[0m",
      "\u001b[1;31mValueError\u001b[0m                                Traceback (most recent call last)",
      "\u001b[1;32mc:\\ZSOMBI\\OneDrive\\PoPy\\notebooks\\preprocessing_sessions\\behav_debugger\\debugger.ipynb Cell 7\u001b[0m line \u001b[0;36m1\n\u001b[1;32m----> <a href='vscode-notebook-cell:/c%3A/ZSOMBI/OneDrive/PoPy/notebooks/preprocessing_sessions/behav_debugger/debugger.ipynb#X10sZmlsZQ%3D%3D?line=0'>1</a>\u001b[0m session_data \u001b[39m=\u001b[39m get_behavior(monkey, session)  \u001b[39m# load raw data and preprocess it\u001b[39;00m\n\u001b[0;32m      <a href='vscode-notebook-cell:/c%3A/ZSOMBI/OneDrive/PoPy/notebooks/preprocessing_sessions/behav_debugger/debugger.ipynb#X10sZmlsZQ%3D%3D?line=1'>2</a>\u001b[0m \u001b[39m# show full dataframe\u001b[39;00m\n\u001b[0;32m      <a href='vscode-notebook-cell:/c%3A/ZSOMBI/OneDrive/PoPy/notebooks/preprocessing_sessions/behav_debugger/debugger.ipynb#X10sZmlsZQ%3D%3D?line=2'>3</a>\u001b[0m pd\u001b[39m.\u001b[39mset_option(\u001b[39m'\u001b[39m\u001b[39mdisplay.max_rows\u001b[39m\u001b[39m'\u001b[39m, \u001b[39mNone\u001b[39;00m)\n",
      "File \u001b[1;32mC:\\ZSOMBI\\OneDrive\\PoPy\\popy\\io_tools.py:76\u001b[0m, in \u001b[0;36mget_behavior\u001b[1;34m(monkey, session)\u001b[0m\n\u001b[0;32m     72\u001b[0m \u001b[39m# chop trunctuated blocks in the beginning and the end\u001b[39;00m\n\u001b[0;32m     73\u001b[0m \u001b[39m#raw_behav = chop_trunctuated_blocks(raw_behav)\u001b[39;00m\n\u001b[0;32m     75\u001b[0m times_df \u001b[39m=\u001b[39m extract_behav_timestamps(raw_behav)  \u001b[39m# extract timestamps\u001b[39;00m\n\u001b[1;32m---> 76\u001b[0m events_df \u001b[39m=\u001b[39m extract_behav_events(raw_behav)   \u001b[39m# extract events\u001b[39;00m\n\u001b[0;32m     78\u001b[0m \u001b[39m# concatenate times and events and return\u001b[39;00m\n\u001b[0;32m     79\u001b[0m joint_df \u001b[39m=\u001b[39m times_df\u001b[39m.\u001b[39mjoin(events_df\u001b[39m.\u001b[39mset_index(\u001b[39m'\u001b[39m\u001b[39mtrial_id\u001b[39m\u001b[39m'\u001b[39m), on\u001b[39m=\u001b[39m\u001b[39m'\u001b[39m\u001b[39mtrial_id\u001b[39m\u001b[39m'\u001b[39m)\n",
      "File \u001b[1;32mC:\\ZSOMBI\\OneDrive\\PoPy\\popy\\io_tools_helpers.py:128\u001b[0m, in \u001b[0;36mextract_behav_events\u001b[1;34m(raw_behav)\u001b[0m\n\u001b[0;32m    126\u001b[0m \u001b[39m# extract best target\u001b[39;00m\n\u001b[0;32m    127\u001b[0m curr_trial[\u001b[39m'\u001b[39m\u001b[39mtrial_id\u001b[39m\u001b[39m'\u001b[39m] \u001b[39m=\u001b[39m trial_id\n\u001b[1;32m--> 128\u001b[0m curr_trial[\u001b[39m'\u001b[39m\u001b[39mblock_id\u001b[39m\u001b[39m'\u001b[39m], curr_trial[\u001b[39m'\u001b[39m\u001b[39mbest_target\u001b[39m\u001b[39m'\u001b[39m] \u001b[39m=\u001b[39m get_block_info(trial_id, raw_behav)\n\u001b[0;32m    130\u001b[0m \u001b[39m# if the trial is not interrupted, we can extract the other times\u001b[39;00m\n\u001b[0;32m    131\u001b[0m \u001b[39mif\u001b[39;00m \u001b[39m252\u001b[39m \u001b[39mnot\u001b[39;00m \u001b[39min\u001b[39;00m curr_behav[:, \u001b[39m0\u001b[39m]:\n",
      "File \u001b[1;32mC:\\ZSOMBI\\OneDrive\\PoPy\\popy\\io_tools_helpers.py:232\u001b[0m, in \u001b[0;36mget_block_info\u001b[1;34m(trial_id, behav)\u001b[0m\n\u001b[0;32m    229\u001b[0m             \u001b[39mprint\u001b[39m(\u001b[39mf\u001b[39m\u001b[39m'\u001b[39m\u001b[39mblock_start: \u001b[39m\u001b[39m{\u001b[39;00mblock_start\u001b[39m}\u001b[39;00m\u001b[39m, block_end: \u001b[39m\u001b[39m{\u001b[39;00mblock_end\u001b[39m}\u001b[39;00m\u001b[39m'\u001b[39m)\n\u001b[0;32m    230\u001b[0m             \u001b[39mreturn\u001b[39;00m np\u001b[39m.\u001b[39mnan, np\u001b[39m.\u001b[39mnan\n\u001b[1;32m--> 232\u001b[0m \u001b[39mraise\u001b[39;00m \u001b[39mValueError\u001b[39;00m(\u001b[39mf\u001b[39m\u001b[39m'\u001b[39m\u001b[39mTrial id \u001b[39m\u001b[39m{\u001b[39;00mtrial_id\u001b[39m}\u001b[39;00m\u001b[39m not found in any block.\u001b[39m\u001b[39m'\u001b[39m)\n",
      "\u001b[1;31mValueError\u001b[0m: Trial id 232 not found in any block."
     ]
    }
   ],
   "source": [
    "session_data = get_behavior(monkey, session)  # load raw data and preprocess it\n",
    "# show full dataframe\n",
    "pd.set_option('display.max_rows', None)\n",
    "session_data"
   ]
  },
  {
   "cell_type": "markdown",
   "metadata": {},
   "source": [
    "# Correct mistakes"
   ]
  },
  {
   "cell_type": "code",
   "execution_count": null,
   "metadata": {},
   "outputs": [
    {
     "name": "stdout",
     "output_type": "stream",
     "text": [
      "ka310522_fpkk_4785003.mat\n"
     ]
    }
   ],
   "source": [
    "# get corresponding filename (to load raw data)\n",
    "all_session_info = pd.read_csv('C:\\\\ZSOMBI\\\\OneDrive\\\\PoPy\\\\data\\\\recordings_summary.csv', dtype={'monkey': str, 'session': str})\n",
    "fname = all_session_info.loc[(all_session_info['monkey'] == monkey) & (all_session_info['session'] == session), 'behav_file_name'].values[0]\n",
    "print(fname)"
   ]
  },
  {
   "cell_type": "code",
   "execution_count": null,
   "metadata": {},
   "outputs": [
    {
     "data": {
      "text/plain": [
       "\"\\n# remove index 814 and 815\\nmat['behav'] = np.delete(mat['behav'], 814, 0)\\nmat['behav'] = np.delete(mat['behav'], 814, 0)\\nt = mat['behav'][814, 1]\\nmat['behav'] = np.insert(mat['behav'], 815, [7, t+.001], axis=0)\\nmat['behav'] = np.insert(mat['behav'], 816, [51, t+.002], axis=0)\""
      ]
     },
     "execution_count": 5,
     "metadata": {},
     "output_type": "execute_result"
    }
   ],
   "source": [
    "# load mat file\n",
    "mat = sio.loadmat(f'C:\\\\ZSOMBI\\\\OneDrive\\\\PoPy\\\\data\\\\recordings\\\\behavior\\\\{fname}')\n",
    "# save mat file\n",
    "behav = mat['behav']\n",
    "\n",
    "#%% Correct errors\n",
    "#mat['behav'] = behav[:2414, :]\n",
    "#mat['behav'][4659, 0] = 61\n",
    "#mat['behav'] = np.delete(mat['behav'], 6900, 0)\n",
    "#t = (mat['behav'][3958, 1] + mat['behav'][39, 1])/2\n",
    "#mat['behav'] = np.insert(mat['behav'], 3180, [100, t], axis=0)\n",
    "\n",
    "#behav_new = mat['behav']\n",
    "\n",
    "#sio.savemat(f'C:\\\\ZSOMBI\\\\OneDrive\\\\PoPy\\\\data\\\\recordings\\\\{fname}', mat)\n",
    "#mat['behav'] = np.delete(mat['behav'], 5184, 0)\n",
    "mat['behav'] = np.insert(mat['behav'], 3396, [252, 2342.4002], axis=0)\n",
    "\n",
    "\n",
    "#mat['behav'][7052, :]\n",
    "\"\"\"\n",
    "# remove index 814 and 815\n",
    "mat['behav'] = np.delete(mat['behav'], 814, 0)\n",
    "mat['behav'] = np.delete(mat['behav'], 814, 0)\n",
    "t = mat['behav'][814, 1]\n",
    "mat['behav'] = np.insert(mat['behav'], 815, [7, t+.001], axis=0)\n",
    "mat['behav'] = np.insert(mat['behav'], 816, [51, t+.002], axis=0)\"\"\"\n",
    "\n",
    "#sio.savemat(f'C:\\\\ZSOMBI\\\\OneDrive\\\\PoPy\\\\data\\\\recordings\\\\behavior\\\\{fname}', mat)"
   ]
  },
  {
   "cell_type": "code",
   "execution_count": null,
   "metadata": {},
   "outputs": [],
   "source": []
  },
  {
   "cell_type": "code",
   "execution_count": null,
   "metadata": {},
   "outputs": [],
   "source": []
  }
 ],
 "metadata": {
  "kernelspec": {
   "display_name": "popy",
   "language": "python",
   "name": "python3"
  },
  "language_info": {
   "codemirror_mode": {
    "name": "ipython",
    "version": 3
   },
   "file_extension": ".py",
   "mimetype": "text/x-python",
   "name": "python",
   "nbconvert_exporter": "python",
   "pygments_lexer": "ipython3",
   "version": "3.10.9"
  }
 },
 "nbformat": 4,
 "nbformat_minor": 2
}
