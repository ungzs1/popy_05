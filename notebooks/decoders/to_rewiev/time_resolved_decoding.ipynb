{
 "cells": [
  {
   "attachments": {},
   "cell_type": "markdown",
   "metadata": {},
   "source": [
    "This scrip reproduces some of the results from Stoll et al. 2015, on our data.\n",
    "\n",
    "Variables to be decoded:\n",
    "    1. Feedback\n",
    "        - reward\n",
    "    2. Performance measures\n",
    "        - action value\n",
    "        - (reward rate)\n",
    "        - (target value)\n",
    "    3. Decision\n",
    "        - action (selected target)\n",
    "        - action (switch or stay)\n",
    "        - phase"
   ]
  },
  {
   "cell_type": "code",
   "execution_count": 19,
   "metadata": {},
   "outputs": [],
   "source": [
    "import sys\n",
    "sys.path.append(\"C:\\ZSOMBI\\OneDrive\\PoPy\")\n",
    "sys.path.append(\"/Users/zsombi/OneDrive/PoPy\")\n",
    "\n",
    "import pandas as pd\n",
    "\n",
    "from popy.io_tools import *\n",
    "from popy.behavior_data_tools import *\n",
    "from popy.neural_data_tools import time_normalize_session, scale_neural_data, remove_low_fr_neurons, remove_trunctuated_neurons\n",
    "from popy.decoders import *\n",
    "from popy.plotting_tools import *\n",
    "\n",
    "\n",
    "def run_decoder_method(neural_data, session_data, mode, variables_to_decode, areas_to_decode, window_len, step_len, start_on, end_on):\n",
    "    # df to store results\n",
    "    all_scores = pd.DataFrame(columns=variables_to_decode, # ['feedback', 'value_function']'value_function', 'RPE', 'switch',  # , 'phase', 'target_1', 'target_2', \"target_3\"\n",
    "                            index=areas_to_decode)#, 'both'\n",
    "\n",
    "    # add new column for rpe\n",
    "\n",
    "    for target_name in variables_to_decode:\n",
    "        for area in areas_to_decode:\n",
    "            print(f\"Decoding {target_name} in {area} area\")\n",
    "            all_scores[target_name][area] = linear_decoding(neural_data, session_data, target_name, mode=mode, area=area,\n",
    "                                                            starts_on=start_on, ends_on=end_on,\n",
    "                                                            window_len=window_len, step_len=step_len, return_p_values=True)\n",
    "            \n",
    "    return all_scores\n",
    "\n",
    "def plot_across_decoder_results(all_scores_across, variable_to_plot, n_trials=2):\n",
    "    cm = 1/2.54  # centimeters in inches\n",
    "    fig, axs = plt.subplots(1, 2, figsize=(2*15*cm, 14*cm))\n",
    "    # default font size\n",
    "    plt.rcParams.update({'font.size': 12})\n",
    "\n",
    "    cmaps = {'MCC': 'Greys', 'LPFC': 'Blues', 'both': 'Greens'}\n",
    "    thresholds = {'feedback': [0.55, .9],\n",
    "                'value_function': [0, .7],\n",
    "                'switch': [0.4, 1],\n",
    "                'phase': [0.4, 1],\n",
    "                'target': [.3, .7],\n",
    "                'RPE': [0, .9]}\n",
    "\n",
    "    t_max = 7.5\n",
    "    #time_vector = np.arange(0, t_max * n_trials -window_len, step_len)\n",
    "\n",
    "    for j, area in enumerate(['MCC', 'LPFC']):\n",
    "        ax = axs[j]\n",
    "        data = all_scores_across[variable_to_plot][area]\n",
    "        #axs[i].plot(time_vector, data, label=area, color=colors[area], linewidth=2)\n",
    "        im = ax.imshow(data, \n",
    "                    vmin=thresholds[variable_to_plot][0] if variable_to_plot in thresholds else None,    \n",
    "                    vmax=thresholds[variable_to_plot][1] if variable_to_plot in thresholds else None,   \n",
    "                    origin='lower', cmap=cmaps[area], \n",
    "                    extent=[0, t_max * n_trials - window_len, 0, t_max * n_trials - window_len])\n",
    "        # plot epoch times\n",
    "        for label, time in ep_times.items():\n",
    "            for i in range(n_trials):\n",
    "                ax.axvline(time+i*t_max, color='grey' if label != 'fb' else 'tab:red', linestyle='dashed', alpha=.5, linewidth=1)\n",
    "                ax.axhline(time+i*t_max, color='grey' if label != 'fb' else 'tab:red', linestyle='dashed', alpha=.5, linewidth=1)\n",
    "        cbar = fig.colorbar(im, ax=ax, fraction=0.046, pad=0.04)\n",
    "\n",
    "                \n",
    "        # set xticks as epoch labels\n",
    "        times_ticks = [time + i*7.5 for i in range(n_trials) for time in list(ep_times.values())[:-1]]\n",
    "        labels_ticks = [label for i in range(n_trials) for label in list(ep_times.keys())[:-1]]\n",
    "        ax.set_xticks(times_ticks)\n",
    "        ax.set_xticklabels(labels_ticks, fontsize=8, rotation=90)\n",
    "        ax.set_yticks(times_ticks)\n",
    "        ax.set_yticklabels(labels_ticks, fontsize=8)\n",
    "\n",
    "        ax.set_title(f\"{area}\")\n",
    "\n",
    "        # remve top and right spines\n",
    "        sns.despine()\n",
    "        # remove legend frame\n",
    "        ax.legend(frameon=False, loc='upper right')\n",
    "\n",
    "        ax.set_ylabel('time of fit')\n",
    "        ax.set_xlabel('time of test')\n",
    "    plt.suptitle(variable_to_plot, fontsize=16)\n",
    "    plt.show()\n",
    "\n"
   ]
  },
  {
   "attachments": {},
   "cell_type": "markdown",
   "metadata": {},
   "source": [
    "# Get data"
   ]
  },
  {
   "cell_type": "code",
   "execution_count": 20,
   "metadata": {},
   "outputs": [],
   "source": [
    "monkey, session = 'ka', '150720'"
   ]
  },
  {
   "attachments": {},
   "cell_type": "markdown",
   "metadata": {},
   "source": [
    "Get behavior"
   ]
  },
  {
   "cell_type": "code",
   "execution_count": 21,
   "metadata": {},
   "outputs": [
    {
     "name": "stdout",
     "output_type": "stream",
     "text": [
      "adding history of feedback column, but if the data is pooled across sessions, make sure to add the history before pooling data to keep the order of time!\n"
     ]
    },
    {
     "name": "stderr",
     "output_type": "stream",
     "text": [
      "C:\\ZSOMBI\\OneDrive\\PoPy\\popy\\behavior_data_tools.py:187: RuntimeWarning: invalid value encountered in cast\n",
      "  X = X.astype(int)\n"
     ]
    }
   ],
   "source": [
    "session_data = get_behavior(monkey, session)\n",
    "\n",
    "# add fb-1, fb-2, ...\n",
    "\"\"\"session_data['fb_m1'] = session_data['feedback'].shift(1)\n",
    "session_data['fb_m2'] = session_data['feedback'].shift(2)\n",
    "session_data['fb_m3'] = session_data['feedback'].shift(3)\n",
    "session_data['fb_m4'] = session_data['feedback'].shift(4)\"\"\"\n",
    "'''\n",
    "def create_binary(list):\n",
    "    x = 0\n",
    "    for he, digit in enumerate(list[::-1]):\n",
    "        x += digit * 2**he\n",
    "    return x\n",
    "\n",
    "n_binary = 3\n",
    "fb_sequence = np.array([np.nan, np.nan] + [create_binary(session_data.feedback[i:i+n_binary])\n",
    "               for i in range(len(session_data.feedback)-n_binary+1)])\n",
    "session_data['fb_sequence'] = fb_sequence'''\n",
    "\n",
    "# add necessary behav. variables\n",
    "#session_data = add_phase_info(session_data, exploration_limit=1, transition_limit=6)  # add double feedback label\n",
    "session_data = add_value_function(session_data)  # add action value\n",
    "#session_data = add_switch_info(session_data)  # add switch info\n",
    "session_data = add_RPE(session_data, scale_RPE=False)  # add reward prediction error\n",
    "# abs RPE\n",
    "session_data['RPE'] = np.abs(session_data['RPE'])"
   ]
  },
  {
   "cell_type": "code",
   "execution_count": 22,
   "metadata": {},
   "outputs": [
    {
     "data": {
      "text/plain": [
       "'# plot distributions of RPE\\nfig, axs = plt.subplots(figsize=(15, 14))\\nsns.histplot(session_data.RPE)\\nplt.show()'"
      ]
     },
     "execution_count": 22,
     "metadata": {},
     "output_type": "execute_result"
    }
   ],
   "source": [
    "'''# plot distributions of RPE\n",
    "fig, axs = plt.subplots(figsize=(15, 14))\n",
    "sns.histplot(session_data.RPE)\n",
    "plt.show()'''"
   ]
  },
  {
   "cell_type": "code",
   "execution_count": 23,
   "metadata": {},
   "outputs": [
    {
     "data": {
      "text/html": [
       "<div>\n",
       "<style scoped>\n",
       "    .dataframe tbody tr th:only-of-type {\n",
       "        vertical-align: middle;\n",
       "    }\n",
       "\n",
       "    .dataframe tbody tr th {\n",
       "        vertical-align: top;\n",
       "    }\n",
       "\n",
       "    .dataframe thead th {\n",
       "        text-align: right;\n",
       "    }\n",
       "</style>\n",
       "<table border=\"1\" class=\"dataframe\">\n",
       "  <thead>\n",
       "    <tr style=\"text-align: right;\">\n",
       "      <th></th>\n",
       "      <th>trial_id</th>\n",
       "      <th>target</th>\n",
       "      <th>feedback</th>\n",
       "      <th>history_of_feedback</th>\n",
       "      <th>value_function</th>\n",
       "      <th>RPE</th>\n",
       "    </tr>\n",
       "  </thead>\n",
       "  <tbody>\n",
       "    <tr>\n",
       "      <th>0</th>\n",
       "      <td>0</td>\n",
       "      <td>2</td>\n",
       "      <td>False</td>\n",
       "      <td>[nan, nan, nan, nan, nan, nan, nan, nan]</td>\n",
       "      <td>-2.147484e+09</td>\n",
       "      <td>2.147484e+09</td>\n",
       "    </tr>\n",
       "    <tr>\n",
       "      <th>1</th>\n",
       "      <td>1</td>\n",
       "      <td>2</td>\n",
       "      <td>True</td>\n",
       "      <td>[0.0, nan, nan, nan, nan, nan, nan, nan]</td>\n",
       "      <td>-1.347436e+09</td>\n",
       "      <td>1.347436e+09</td>\n",
       "    </tr>\n",
       "    <tr>\n",
       "      <th>2</th>\n",
       "      <td>2</td>\n",
       "      <td>2</td>\n",
       "      <td>False</td>\n",
       "      <td>[1.0, 0.0, nan, nan, nan, nan, nan, nan]</td>\n",
       "      <td>-8.373027e+08</td>\n",
       "      <td>8.373027e+08</td>\n",
       "    </tr>\n",
       "    <tr>\n",
       "      <th>3</th>\n",
       "      <td>3</td>\n",
       "      <td>2</td>\n",
       "      <td>False</td>\n",
       "      <td>[0.0, 1.0, 0.0, nan, nan, nan, nan, nan]</td>\n",
       "      <td>-5.120275e+08</td>\n",
       "      <td>5.120275e+08</td>\n",
       "    </tr>\n",
       "    <tr>\n",
       "      <th>4</th>\n",
       "      <td>4</td>\n",
       "      <td>3</td>\n",
       "      <td>False</td>\n",
       "      <td>[0.0, 0.0, 1.0, 0.0, nan, nan, nan, nan]</td>\n",
       "      <td>-3.046228e+08</td>\n",
       "      <td>3.046228e+08</td>\n",
       "    </tr>\n",
       "    <tr>\n",
       "      <th>...</th>\n",
       "      <td>...</td>\n",
       "      <td>...</td>\n",
       "      <td>...</td>\n",
       "      <td>...</td>\n",
       "      <td>...</td>\n",
       "      <td>...</td>\n",
       "    </tr>\n",
       "    <tr>\n",
       "      <th>461</th>\n",
       "      <td>461</td>\n",
       "      <td>2</td>\n",
       "      <td>False</td>\n",
       "      <td>[True, True, True, False, True, True, True, True]</td>\n",
       "      <td>9.034197e-01</td>\n",
       "      <td>9.034197e-01</td>\n",
       "    </tr>\n",
       "    <tr>\n",
       "      <th>462</th>\n",
       "      <td>462</td>\n",
       "      <td>2</td>\n",
       "      <td>True</td>\n",
       "      <td>[False, True, True, True, False, True, True, T...</td>\n",
       "      <td>5.658663e-01</td>\n",
       "      <td>4.341337e-01</td>\n",
       "    </tr>\n",
       "    <tr>\n",
       "      <th>463</th>\n",
       "      <td>463</td>\n",
       "      <td>2</td>\n",
       "      <td>True</td>\n",
       "      <td>[True, False, True, True, True, False, True, T...</td>\n",
       "      <td>7.231842e-01</td>\n",
       "      <td>2.768158e-01</td>\n",
       "    </tr>\n",
       "    <tr>\n",
       "      <th>464</th>\n",
       "      <td>464</td>\n",
       "      <td>2</td>\n",
       "      <td>True</td>\n",
       "      <td>[True, True, False, True, True, True, False, T...</td>\n",
       "      <td>8.234944e-01</td>\n",
       "      <td>1.765056e-01</td>\n",
       "    </tr>\n",
       "    <tr>\n",
       "      <th>465</th>\n",
       "      <td>465</td>\n",
       "      <td>2</td>\n",
       "      <td>True</td>\n",
       "      <td>[True, True, True, False, True, True, True, Fa...</td>\n",
       "      <td>8.874551e-01</td>\n",
       "      <td>1.125449e-01</td>\n",
       "    </tr>\n",
       "  </tbody>\n",
       "</table>\n",
       "<p>466 rows × 6 columns</p>\n",
       "</div>"
      ],
      "text/plain": [
       "     trial_id  target  feedback   \n",
       "0           0       2     False  \\\n",
       "1           1       2      True   \n",
       "2           2       2     False   \n",
       "3           3       2     False   \n",
       "4           4       3     False   \n",
       "..        ...     ...       ...   \n",
       "461       461       2     False   \n",
       "462       462       2      True   \n",
       "463       463       2      True   \n",
       "464       464       2      True   \n",
       "465       465       2      True   \n",
       "\n",
       "                                   history_of_feedback  value_function   \n",
       "0             [nan, nan, nan, nan, nan, nan, nan, nan]   -2.147484e+09  \\\n",
       "1             [0.0, nan, nan, nan, nan, nan, nan, nan]   -1.347436e+09   \n",
       "2             [1.0, 0.0, nan, nan, nan, nan, nan, nan]   -8.373027e+08   \n",
       "3             [0.0, 1.0, 0.0, nan, nan, nan, nan, nan]   -5.120275e+08   \n",
       "4             [0.0, 0.0, 1.0, 0.0, nan, nan, nan, nan]   -3.046228e+08   \n",
       "..                                                 ...             ...   \n",
       "461  [True, True, True, False, True, True, True, True]    9.034197e-01   \n",
       "462  [False, True, True, True, False, True, True, T...    5.658663e-01   \n",
       "463  [True, False, True, True, True, False, True, T...    7.231842e-01   \n",
       "464  [True, True, False, True, True, True, False, T...    8.234944e-01   \n",
       "465  [True, True, True, False, True, True, True, Fa...    8.874551e-01   \n",
       "\n",
       "              RPE  \n",
       "0    2.147484e+09  \n",
       "1    1.347436e+09  \n",
       "2    8.373027e+08  \n",
       "3    5.120275e+08  \n",
       "4    3.046228e+08  \n",
       "..            ...  \n",
       "461  9.034197e-01  \n",
       "462  4.341337e-01  \n",
       "463  2.768158e-01  \n",
       "464  1.765056e-01  \n",
       "465  1.125449e-01  \n",
       "\n",
       "[466 rows x 6 columns]"
      ]
     },
     "execution_count": 23,
     "metadata": {},
     "output_type": "execute_result"
    }
   ],
   "source": [
    "# clean up data\n",
    "session_data = drop_time_fields(session_data)  # remove time fields\n",
    "session_data = session_data.drop(['block_id', 'best_target'], axis=1)  # drop block_id and best_target\n",
    "\n",
    "session_data"
   ]
  },
  {
   "cell_type": "code",
   "execution_count": 24,
   "metadata": {},
   "outputs": [
    {
     "data": {
      "text/plain": [
       "'fb_of_interest = False\\nsession_data = session_data[session_data.feedback == fb_of_interest]'"
      ]
     },
     "execution_count": 24,
     "metadata": {},
     "output_type": "execute_result"
    }
   ],
   "source": [
    "# take only one feedback\n",
    "'''fb_of_interest = False\n",
    "session_data = session_data[session_data.feedback == fb_of_interest]'''"
   ]
  },
  {
   "attachments": {},
   "cell_type": "markdown",
   "metadata": {},
   "source": [
    "Get neural data"
   ]
  },
  {
   "cell_type": "code",
   "execution_count": 25,
   "metadata": {},
   "outputs": [],
   "source": [
    "import popy.config as cfg\n",
    "\n",
    "# Load neural data\n",
    "out_path = os.path.join(cfg.PROJECT_PATH_LOCAL, 'data', 'processed', 'rates')\n",
    "floc = os.path.join(out_path, f'neural_data_{monkey}_{session}.nc')\n",
    "\n",
    "save = False\n",
    "load = True\n",
    "\n",
    "if load:\n",
    "    neural_data = xr.open_dataarray(floc)\n",
    "else:\n",
    "    neural_data = get_neural_data(monkey, session, 'rates', sr=100)\n",
    "\n",
    "    # remove trunctuated units\n",
    "    neural_data = remove_trunctuated_neurons(neural_data, delay_limit=10)\n",
    "\n",
    "    # remove low_firing units\n",
    "    neural_data = remove_low_fr_neurons(neural_data, 1)\n",
    "    \n",
    "    # z-score neural data\n",
    "    neural_data = scale_neural_data(neural_data)\n",
    "\n",
    "    # normalize neural data in time\n",
    "    neural_data = time_normalize_session(neural_data)\n",
    "\n",
    "if save:\n",
    "    neural_data.to_netcdf(floc)\n",
    "    "
   ]
  },
  {
   "attachments": {},
   "cell_type": "markdown",
   "metadata": {},
   "source": [
    "## Format data for decoding"
   ]
  },
  {
   "cell_type": "code",
   "execution_count": 26,
   "metadata": {},
   "outputs": [
    {
     "data": {
      "text/html": [
       "<div>\n",
       "<style scoped>\n",
       "    .dataframe tbody tr th:only-of-type {\n",
       "        vertical-align: middle;\n",
       "    }\n",
       "\n",
       "    .dataframe tbody tr th {\n",
       "        vertical-align: top;\n",
       "    }\n",
       "\n",
       "    .dataframe thead th {\n",
       "        text-align: right;\n",
       "    }\n",
       "</style>\n",
       "<table border=\"1\" class=\"dataframe\">\n",
       "  <thead>\n",
       "    <tr style=\"text-align: right;\">\n",
       "      <th></th>\n",
       "      <th>trial_id</th>\n",
       "      <th>target</th>\n",
       "      <th>feedback</th>\n",
       "      <th>history_of_feedback</th>\n",
       "      <th>value_function</th>\n",
       "      <th>RPE</th>\n",
       "    </tr>\n",
       "  </thead>\n",
       "  <tbody>\n",
       "    <tr>\n",
       "      <th>0</th>\n",
       "      <td>0</td>\n",
       "      <td>2</td>\n",
       "      <td>False</td>\n",
       "      <td>[nan, nan, nan, nan, nan, nan, nan, nan]</td>\n",
       "      <td>-2.147484e+09</td>\n",
       "      <td>2.147484e+09</td>\n",
       "    </tr>\n",
       "    <tr>\n",
       "      <th>1</th>\n",
       "      <td>1</td>\n",
       "      <td>2</td>\n",
       "      <td>True</td>\n",
       "      <td>[0.0, nan, nan, nan, nan, nan, nan, nan]</td>\n",
       "      <td>-1.347436e+09</td>\n",
       "      <td>1.347436e+09</td>\n",
       "    </tr>\n",
       "    <tr>\n",
       "      <th>2</th>\n",
       "      <td>2</td>\n",
       "      <td>2</td>\n",
       "      <td>False</td>\n",
       "      <td>[1.0, 0.0, nan, nan, nan, nan, nan, nan]</td>\n",
       "      <td>-8.373027e+08</td>\n",
       "      <td>8.373027e+08</td>\n",
       "    </tr>\n",
       "    <tr>\n",
       "      <th>3</th>\n",
       "      <td>3</td>\n",
       "      <td>2</td>\n",
       "      <td>False</td>\n",
       "      <td>[0.0, 1.0, 0.0, nan, nan, nan, nan, nan]</td>\n",
       "      <td>-5.120275e+08</td>\n",
       "      <td>5.120275e+08</td>\n",
       "    </tr>\n",
       "    <tr>\n",
       "      <th>4</th>\n",
       "      <td>4</td>\n",
       "      <td>3</td>\n",
       "      <td>False</td>\n",
       "      <td>[0.0, 0.0, 1.0, 0.0, nan, nan, nan, nan]</td>\n",
       "      <td>-3.046228e+08</td>\n",
       "      <td>3.046228e+08</td>\n",
       "    </tr>\n",
       "    <tr>\n",
       "      <th>5</th>\n",
       "      <td>5</td>\n",
       "      <td>2</td>\n",
       "      <td>False</td>\n",
       "      <td>[0.0, 0.0, 0.0, 1.0, 0.0, nan, nan, nan]</td>\n",
       "      <td>-1.723758e+08</td>\n",
       "      <td>1.723758e+08</td>\n",
       "    </tr>\n",
       "    <tr>\n",
       "      <th>6</th>\n",
       "      <td>6</td>\n",
       "      <td>1</td>\n",
       "      <td>True</td>\n",
       "      <td>[0.0, 0.0, 0.0, 0.0, 1.0, 0.0, nan, nan]</td>\n",
       "      <td>-8.805138e+07</td>\n",
       "      <td>8.805139e+07</td>\n",
       "    </tr>\n",
       "    <tr>\n",
       "      <th>7</th>\n",
       "      <td>7</td>\n",
       "      <td>1</td>\n",
       "      <td>True</td>\n",
       "      <td>[1.0, 0.0, 0.0, 0.0, 0.0, 1.0, 0.0, nan]</td>\n",
       "      <td>-3.428375e+07</td>\n",
       "      <td>3.428375e+07</td>\n",
       "    </tr>\n",
       "    <tr>\n",
       "      <th>8</th>\n",
       "      <td>8</td>\n",
       "      <td>1</td>\n",
       "      <td>False</td>\n",
       "      <td>[True, True, False, False, False, False, True,...</td>\n",
       "      <td>6.351381e-01</td>\n",
       "      <td>6.351381e-01</td>\n",
       "    </tr>\n",
       "    <tr>\n",
       "      <th>9</th>\n",
       "      <td>9</td>\n",
       "      <td>1</td>\n",
       "      <td>True</td>\n",
       "      <td>[False, True, True, False, False, False, False...</td>\n",
       "      <td>4.049819e-01</td>\n",
       "      <td>5.950181e-01</td>\n",
       "    </tr>\n",
       "  </tbody>\n",
       "</table>\n",
       "</div>"
      ],
      "text/plain": [
       "   trial_id  target  feedback   \n",
       "0         0       2     False  \\\n",
       "1         1       2      True   \n",
       "2         2       2     False   \n",
       "3         3       2     False   \n",
       "4         4       3     False   \n",
       "5         5       2     False   \n",
       "6         6       1      True   \n",
       "7         7       1      True   \n",
       "8         8       1     False   \n",
       "9         9       1      True   \n",
       "\n",
       "                                 history_of_feedback  value_function   \n",
       "0           [nan, nan, nan, nan, nan, nan, nan, nan]   -2.147484e+09  \\\n",
       "1           [0.0, nan, nan, nan, nan, nan, nan, nan]   -1.347436e+09   \n",
       "2           [1.0, 0.0, nan, nan, nan, nan, nan, nan]   -8.373027e+08   \n",
       "3           [0.0, 1.0, 0.0, nan, nan, nan, nan, nan]   -5.120275e+08   \n",
       "4           [0.0, 0.0, 1.0, 0.0, nan, nan, nan, nan]   -3.046228e+08   \n",
       "5           [0.0, 0.0, 0.0, 1.0, 0.0, nan, nan, nan]   -1.723758e+08   \n",
       "6           [0.0, 0.0, 0.0, 0.0, 1.0, 0.0, nan, nan]   -8.805138e+07   \n",
       "7           [1.0, 0.0, 0.0, 0.0, 0.0, 1.0, 0.0, nan]   -3.428375e+07   \n",
       "8  [True, True, False, False, False, False, True,...    6.351381e-01   \n",
       "9  [False, True, True, False, False, False, False...    4.049819e-01   \n",
       "\n",
       "            RPE  \n",
       "0  2.147484e+09  \n",
       "1  1.347436e+09  \n",
       "2  8.373027e+08  \n",
       "3  5.120275e+08  \n",
       "4  3.046228e+08  \n",
       "5  1.723758e+08  \n",
       "6  8.805139e+07  \n",
       "7  3.428375e+07  \n",
       "8  6.351381e-01  \n",
       "9  5.950181e-01  "
      ]
     },
     "execution_count": 26,
     "metadata": {},
     "output_type": "execute_result"
    }
   ],
   "source": [
    "## Value function\n",
    "\n",
    "# in order to decode Q_t+1, we need to shift the value_function column by 1\n",
    "#session_data['value_function'] = session_data['value_function'].shift(-1)\n",
    "\"\"\"session_data['switch'] = session_data['switch'].shift(-1)\n",
    "session_data['target'] = session_data['target'].shift(-1)\n",
    "session_data['fb_sequence'] = session_data['fb_sequence'].shift(+1)\n",
    "\"\"\"\n",
    "#session_data['phase'] = session_data['phase'].shift(-1)\n",
    "\n",
    "session_data = session_data.dropna()\n",
    "'''\n",
    "session_data['fb_m1'] = session_data['fb_m1'].astype('bool')\n",
    "session_data['fb_m2'] = session_data['fb_m2'].astype('bool')\n",
    "session_data['fb_m3'] = session_data['fb_m3'].astype('bool')\n",
    "session_data['fb_m4'] = session_data['fb_m4'].astype('bool')\n",
    "#session_data['switch'] = session_data['switch'].astype('bool')\n",
    "session_data.head(10)'''\n",
    "\n",
    "## Phase\n",
    "# make it binary: search or repeat only, drop transition (in fact change it to nan)\n",
    "#session_data.loc[session_data.phase == 'transition', 'phase'] = np.nan\n",
    "\n",
    "# make target binary\n",
    "#session_data['target_1'] = session_data['target'] == 1\n",
    "#session_data['target_2'] = session_data['target'] == 2\n",
    "#session_data['target_3'] = session_data['target'] == 3\n",
    "\n",
    "session_data.head(10)"
   ]
  },
  {
   "attachments": {},
   "cell_type": "markdown",
   "metadata": {},
   "source": [
    "# Correlation btwn variables -- pu it to behavioral analysis"
   ]
  },
  {
   "cell_type": "code",
   "execution_count": 27,
   "metadata": {},
   "outputs": [
    {
     "data": {
      "text/plain": [
       "\"# cross-correlation between vars\\ncols = session_data.columns\\n\\n# drop nans\\ndf = session_data[cols].dropna()\\n# switch to binary\\n#df['switch'] = df['switch'].astype(int)\\nprint(df)\\n\\n# compute cross-correlation\\ncorr = df.corr()\\nprint(corr)\\n# round to 2 decimals\\ncorr = corr.round(2)\\n\\n# plot\\nfig, ax = plt.subplots(figsize=(5, 5))\\nsns.heatmap(corr, annot=True, ax=ax, cmap='coolwarm', vmin=-1, vmax=1)\\n# flip x axis 90 degrees\\nax.set_xticklabels(ax.get_xticklabels(), rotation=45)\\n\\nax.set_title('Cross-correlation between variables')\\nplt.suptitle(f'session: {monkey}{session}')\\n\""
      ]
     },
     "execution_count": 27,
     "metadata": {},
     "output_type": "execute_result"
    }
   ],
   "source": [
    "\"\"\"# cross-correlation between vars\n",
    "cols = session_data.columns\n",
    "\n",
    "# drop nans\n",
    "df = session_data[cols].dropna()\n",
    "# switch to binary\n",
    "#df['switch'] = df['switch'].astype(int)\n",
    "print(df)\n",
    "\n",
    "# compute cross-correlation\n",
    "corr = df.corr()\n",
    "print(corr)\n",
    "# round to 2 decimals\n",
    "corr = corr.round(2)\n",
    "\n",
    "# plot\n",
    "fig, ax = plt.subplots(figsize=(5, 5))\n",
    "sns.heatmap(corr, annot=True, ax=ax, cmap='coolwarm', vmin=-1, vmax=1)\n",
    "# flip x axis 90 degrees\n",
    "ax.set_xticklabels(ax.get_xticklabels(), rotation=45)\n",
    "\n",
    "ax.set_title('Cross-correlation between variables')\n",
    "plt.suptitle(f'session: {monkey}{session}')\n",
    "\"\"\""
   ]
  },
  {
   "attachments": {},
   "cell_type": "markdown",
   "metadata": {},
   "source": [
    "# Conclusion 1: different cognitive context has different corresponding dynamics\n"
   ]
  },
  {
   "attachments": {},
   "cell_type": "markdown",
   "metadata": {},
   "source": [
    "## Time-resolved decoder"
   ]
  },
  {
   "cell_type": "code",
   "execution_count": 30,
   "metadata": {},
   "outputs": [
    {
     "name": "stdout",
     "output_type": "stream",
     "text": [
      "Decoding feedback in MCC area\n"
     ]
    },
    {
     "name": "stderr",
     "output_type": "stream",
     "text": [
      "100%|██████████| 720/720 [00:05<00:00, 131.55it/s]\n"
     ]
    },
    {
     "name": "stdout",
     "output_type": "stream",
     "text": [
      "Decoding feedback in LPFC area\n"
     ]
    },
    {
     "name": "stderr",
     "output_type": "stream",
     "text": [
      "100%|██████████| 720/720 [00:03<00:00, 235.81it/s]\n"
     ]
    },
    {
     "data": {
      "text/html": [
       "<div>\n",
       "<style scoped>\n",
       "    .dataframe tbody tr th:only-of-type {\n",
       "        vertical-align: middle;\n",
       "    }\n",
       "\n",
       "    .dataframe tbody tr th {\n",
       "        vertical-align: top;\n",
       "    }\n",
       "\n",
       "    .dataframe thead th {\n",
       "        text-align: right;\n",
       "    }\n",
       "</style>\n",
       "<table border=\"1\" class=\"dataframe\">\n",
       "  <thead>\n",
       "    <tr style=\"text-align: right;\">\n",
       "      <th></th>\n",
       "      <th>feedback</th>\n",
       "    </tr>\n",
       "  </thead>\n",
       "  <tbody>\n",
       "    <tr>\n",
       "      <th>MCC</th>\n",
       "      <td>([0.5287209302325582, 0.5087209302325582, 0.51...</td>\n",
       "    </tr>\n",
       "    <tr>\n",
       "      <th>LPFC</th>\n",
       "      <td>([0.49255813953488364, 0.5161627906976743, 0.4...</td>\n",
       "    </tr>\n",
       "  </tbody>\n",
       "</table>\n",
       "</div>"
      ],
      "text/plain": [
       "                                               feedback\n",
       "MCC   ([0.5287209302325582, 0.5087209302325582, 0.51...\n",
       "LPFC  ([0.49255813953488364, 0.5161627906976743, 0.4..."
      ]
     },
     "execution_count": 30,
     "metadata": {},
     "output_type": "execute_result"
    }
   ],
   "source": [
    "variables_to_decode = ['feedback']\n",
    "areas_to_decode = ['MCC', 'LPFC']\n",
    "\n",
    "# set parameters for decoding\n",
    "window_len, step_len = .2, .2\n",
    "start_on, end_on = 'trial_start', 'trial_end'\n",
    "\n",
    "mode = 'time_resolved'\n",
    "\n",
    "\"\"\"neural_data_diff = neural_data.diff('time')\n",
    "neural_data_diff.attrs = neural_data.attrs\"\"\"\n",
    "\n",
    "# run decoder\n",
    "all_scores = run_decoder_method(neural_data, session_data, mode, variables_to_decode, areas_to_decode, window_len, step_len, start_on, end_on)\n",
    "#all_scores_across['meta'] = [monkey, session]\n",
    "all_scores"
   ]
  },
  {
   "cell_type": "code",
   "execution_count": 54,
   "metadata": {},
   "outputs": [
    {
     "data": {
      "image/png": "[encoded data removed]",
      "text/plain": [
       "<Figure size 640x480 with 1 Axes>"
      ]
     },
     "metadata": {},
     "output_type": "display_data"
    },
    {
     "data": {
      "image/png": "[encoded data removed]",
      "text/plain": [
       "<Figure size 640x480 with 1 Axes>"
      ]
     },
     "metadata": {},
     "output_type": "display_data"
    }
   ],
   "source": [
    "# plot\n",
    "for i, row in all_scores.iterrows():\n",
    "    fig, ax = plt.subplots()\n",
    "    ax.plot(row.feedback[0])\n",
    "    ax.plot(row.feedback[1])\n",
    "\n"
   ]
  },
  {
   "attachments": {},
   "cell_type": "markdown",
   "metadata": {},
   "source": [
    "#### Plotting fo poster"
   ]
  },
  {
   "cell_type": "code",
   "execution_count": 32,
   "metadata": {},
   "outputs": [
    {
     "ename": "ValueError",
     "evalue": "x and y must have same first dimension, but have shapes (74,) and (2, 36)",
     "output_type": "error",
     "traceback": [
      "\u001b[1;31m---------------------------------------------------------------------------\u001b[0m",
      "\u001b[1;31mValueError\u001b[0m                                Traceback (most recent call last)",
      "Cell \u001b[1;32mIn[32], line 7\u001b[0m\n\u001b[0;32m      5\u001b[0m \u001b[39mfor\u001b[39;00m variable_to_plot \u001b[39min\u001b[39;00m variables_to_decode:   \n\u001b[0;32m      6\u001b[0m     all_scores_temp \u001b[39m=\u001b[39m all_scores[variable_to_plot] \n\u001b[1;32m----> 7\u001b[0m     plot_decoder_result(all_scores_temp, ep_times, window_len, step_len, start_on, end_on, n_trials\u001b[39m=\u001b[39;49m\u001b[39m2\u001b[39;49m)\n",
      "File \u001b[1;32mc:\\ZSOMBI\\OneDrive\\PoPy\\notebooks\\decoders\\decoder_tools.py:43\u001b[0m, in \u001b[0;36mplot_decoder_result\u001b[1;34m(all_scores, ep_times, window_len, step_len, start_on, end_on, n_trials, title)\u001b[0m\n\u001b[0;32m     41\u001b[0m     data \u001b[39m=\u001b[39m all_scores[area]\n\u001b[0;32m     42\u001b[0m     \u001b[39mif\u001b[39;00m \u001b[39mnot\u001b[39;00m \u001b[39mlen\u001b[39m(data) \u001b[39m==\u001b[39m \u001b[39m0\u001b[39m:\n\u001b[1;32m---> 43\u001b[0m         ax\u001b[39m.\u001b[39;49mplot(time_vector, \n\u001b[0;32m     44\u001b[0m                 data, \n\u001b[0;32m     45\u001b[0m                 label\u001b[39m=\u001b[39;49marea, \n\u001b[0;32m     46\u001b[0m                 color\u001b[39m=\u001b[39;49mcolors[area], \n\u001b[0;32m     47\u001b[0m                 linewidth\u001b[39m=\u001b[39;49m\u001b[39m2\u001b[39;49m)\n\u001b[0;32m     49\u001b[0m \u001b[39m# plot epoch times\u001b[39;00m\n\u001b[0;32m     50\u001b[0m \u001b[39mfor\u001b[39;00m label, time \u001b[39min\u001b[39;00m ep_times\u001b[39m.\u001b[39mitems():\n",
      "File \u001b[1;32mc:\\Users\\procyk\\miniconda3\\envs\\popy\\lib\\site-packages\\matplotlib\\axes\\_axes.py:1668\u001b[0m, in \u001b[0;36mAxes.plot\u001b[1;34m(self, scalex, scaley, data, *args, **kwargs)\u001b[0m\n\u001b[0;32m   1425\u001b[0m \u001b[39m\u001b[39m\u001b[39m\"\"\"\u001b[39;00m\n\u001b[0;32m   1426\u001b[0m \u001b[39mPlot y versus x as lines and/or markers.\u001b[39;00m\n\u001b[0;32m   1427\u001b[0m \n\u001b[1;32m   (...)\u001b[0m\n\u001b[0;32m   1665\u001b[0m \u001b[39m(``'green'``) or hex strings (``'#008000'``).\u001b[39;00m\n\u001b[0;32m   1666\u001b[0m \u001b[39m\"\"\"\u001b[39;00m\n\u001b[0;32m   1667\u001b[0m kwargs \u001b[39m=\u001b[39m cbook\u001b[39m.\u001b[39mnormalize_kwargs(kwargs, mlines\u001b[39m.\u001b[39mLine2D)\n\u001b[1;32m-> 1668\u001b[0m lines \u001b[39m=\u001b[39m [\u001b[39m*\u001b[39m\u001b[39mself\u001b[39m\u001b[39m.\u001b[39m_get_lines(\u001b[39m*\u001b[39margs, data\u001b[39m=\u001b[39mdata, \u001b[39m*\u001b[39m\u001b[39m*\u001b[39mkwargs)]\n\u001b[0;32m   1669\u001b[0m \u001b[39mfor\u001b[39;00m line \u001b[39min\u001b[39;00m lines:\n\u001b[0;32m   1670\u001b[0m     \u001b[39mself\u001b[39m\u001b[39m.\u001b[39madd_line(line)\n",
      "File \u001b[1;32mc:\\Users\\procyk\\miniconda3\\envs\\popy\\lib\\site-packages\\matplotlib\\axes\\_base.py:311\u001b[0m, in \u001b[0;36m_process_plot_var_args.__call__\u001b[1;34m(self, data, *args, **kwargs)\u001b[0m\n\u001b[0;32m    309\u001b[0m     this \u001b[39m+\u001b[39m\u001b[39m=\u001b[39m args[\u001b[39m0\u001b[39m],\n\u001b[0;32m    310\u001b[0m     args \u001b[39m=\u001b[39m args[\u001b[39m1\u001b[39m:]\n\u001b[1;32m--> 311\u001b[0m \u001b[39myield from\u001b[39;00m \u001b[39mself\u001b[39;49m\u001b[39m.\u001b[39;49m_plot_args(\n\u001b[0;32m    312\u001b[0m     this, kwargs, ambiguous_fmt_datakey\u001b[39m=\u001b[39;49mambiguous_fmt_datakey)\n",
      "File \u001b[1;32mc:\\Users\\procyk\\miniconda3\\envs\\popy\\lib\\site-packages\\matplotlib\\axes\\_base.py:504\u001b[0m, in \u001b[0;36m_process_plot_var_args._plot_args\u001b[1;34m(self, tup, kwargs, return_kwargs, ambiguous_fmt_datakey)\u001b[0m\n\u001b[0;32m    501\u001b[0m     \u001b[39mself\u001b[39m\u001b[39m.\u001b[39maxes\u001b[39m.\u001b[39myaxis\u001b[39m.\u001b[39mupdate_units(y)\n\u001b[0;32m    503\u001b[0m \u001b[39mif\u001b[39;00m x\u001b[39m.\u001b[39mshape[\u001b[39m0\u001b[39m] \u001b[39m!=\u001b[39m y\u001b[39m.\u001b[39mshape[\u001b[39m0\u001b[39m]:\n\u001b[1;32m--> 504\u001b[0m     \u001b[39mraise\u001b[39;00m \u001b[39mValueError\u001b[39;00m(\u001b[39mf\u001b[39m\u001b[39m\"\u001b[39m\u001b[39mx and y must have same first dimension, but \u001b[39m\u001b[39m\"\u001b[39m\n\u001b[0;32m    505\u001b[0m                      \u001b[39mf\u001b[39m\u001b[39m\"\u001b[39m\u001b[39mhave shapes \u001b[39m\u001b[39m{\u001b[39;00mx\u001b[39m.\u001b[39mshape\u001b[39m}\u001b[39;00m\u001b[39m and \u001b[39m\u001b[39m{\u001b[39;00my\u001b[39m.\u001b[39mshape\u001b[39m}\u001b[39;00m\u001b[39m\"\u001b[39m)\n\u001b[0;32m    506\u001b[0m \u001b[39mif\u001b[39;00m x\u001b[39m.\u001b[39mndim \u001b[39m>\u001b[39m \u001b[39m2\u001b[39m \u001b[39mor\u001b[39;00m y\u001b[39m.\u001b[39mndim \u001b[39m>\u001b[39m \u001b[39m2\u001b[39m:\n\u001b[0;32m    507\u001b[0m     \u001b[39mraise\u001b[39;00m \u001b[39mValueError\u001b[39;00m(\u001b[39mf\u001b[39m\u001b[39m\"\u001b[39m\u001b[39mx and y can be no greater than 2D, but have \u001b[39m\u001b[39m\"\u001b[39m\n\u001b[0;32m    508\u001b[0m                      \u001b[39mf\u001b[39m\u001b[39m\"\u001b[39m\u001b[39mshapes \u001b[39m\u001b[39m{\u001b[39;00mx\u001b[39m.\u001b[39mshape\u001b[39m}\u001b[39;00m\u001b[39m and \u001b[39m\u001b[39m{\u001b[39;00my\u001b[39m.\u001b[39mshape\u001b[39m}\u001b[39;00m\u001b[39m\"\u001b[39m)\n",
      "\u001b[1;31mValueError\u001b[0m: x and y must have same first dimension, but have shapes (74,) and (2, 36)"
     ]
    },
    {
     "data": {
      "image/png": "[encoded data removed]",
      "text/plain": [
       "<Figure size 944.882x433.071 with 1 Axes>"
      ]
     },
     "metadata": {},
     "output_type": "display_data"
    }
   ],
   "source": [
    "from decoder_tools import *\n",
    "\n",
    "ep_times = get_epoch_lens(neural_data)\n",
    "\n",
    "for variable_to_plot in variables_to_decode:   \n",
    "    all_scores_temp = all_scores[variable_to_plot] \n",
    "    plot_decoder_result(all_scores_temp, ep_times, window_len, step_len, start_on, end_on, n_trials=2)\n"
   ]
  },
  {
   "cell_type": "code",
   "execution_count": null,
   "metadata": {},
   "outputs": [],
   "source": [
    "#plot_stoll(all_scores, neural_data, window_len, step_len, n_trials=1)"
   ]
  },
  {
   "attachments": {},
   "cell_type": "markdown",
   "metadata": {},
   "source": [
    "## Across-time decoding"
   ]
  },
  {
   "cell_type": "code",
   "execution_count": null,
   "metadata": {},
   "outputs": [
    {
     "name": "stdout",
     "output_type": "stream",
     "text": [
      "Decoding value_function in MCC area\n"
     ]
    },
    {
     "name": "stderr",
     "output_type": "stream",
     "text": [
      "100%|██████████| 1480/1480 [00:16<00:00, 88.71it/s]\n"
     ]
    },
    {
     "name": "stdout",
     "output_type": "stream",
     "text": [
      "Decoding value_function in LPFC area\n"
     ]
    },
    {
     "name": "stderr",
     "output_type": "stream",
     "text": [
      "100%|██████████| 1480/1480 [00:06<00:00, 214.04it/s]\n"
     ]
    }
   ],
   "source": [
    "# set parameters for decoding\n",
    "window_len, step_len = .2, .2\n",
    "\n",
    "mode='across_time'\n",
    "all_scores_across = run_decoder_method(neural_data, session_data, mode, variables_to_decode, areas_to_decode, window_len, step_len, start_on, end_on)\n",
    "all_scores_across['meta'] = [monkey, session]"
   ]
  },
  {
   "cell_type": "code",
   "execution_count": null,
   "metadata": {},
   "outputs": [
    {
     "ename": "TypeError",
     "evalue": "plot_decoder_result() got multiple values for argument 'n_trials'",
     "output_type": "error",
     "traceback": [
      "\u001b[1;31m---------------------------------------------------------------------------\u001b[0m",
      "\u001b[1;31mTypeError\u001b[0m                                 Traceback (most recent call last)",
      "Cell \u001b[1;32mIn[42], line 2\u001b[0m\n\u001b[0;32m      1\u001b[0m \u001b[39mfor\u001b[39;00m variable_to_plot \u001b[39min\u001b[39;00m variables_to_decode:    \n\u001b[1;32m----> 2\u001b[0m     plot_decoder_result(all_scores, variable_to_plot, ep_times, window_len, step_len, start_on, end_on, n_trials\u001b[39m=\u001b[39;49m\u001b[39m2\u001b[39;49m)\n",
      "\u001b[1;31mTypeError\u001b[0m: plot_decoder_result() got multiple values for argument 'n_trials'"
     ]
    }
   ],
   "source": [
    "for variable_to_plot in variables_to_decode:    \n",
    "    plot_decoder_result(all_scores, variable_to_plot, ep_times, window_len, step_len, start_on, end_on, n_trials=2)"
   ]
  },
  {
   "cell_type": "code",
   "execution_count": null,
   "metadata": {},
   "outputs": [],
   "source": [
    "#plot_stoll(all_scores_across, neural_data, window_len, step_len, mode=None, show=True, save=False, savedir=None)"
   ]
  }
 ],
 "metadata": {
  "kernelspec": {
   "display_name": "popy",
   "language": "python",
   "name": "python3"
  },
  "language_info": {
   "codemirror_mode": {
    "name": "ipython",
    "version": 3
   },
   "file_extension": ".py",
   "mimetype": "text/x-python",
   "name": "python",
   "nbconvert_exporter": "python",
   "pygments_lexer": "ipython3",
   "version": "3.10.9"
  },
  "orig_nbformat": 4,
  "vscode": {
   "interpreter": {
    "hash": "f7cfb22fd49d95ed6cf3b08c42c25be43cb79c0cdf60c4c8cdce91a5d921a361"
   }
  }
 },
 "nbformat": 4,
 "nbformat_minor": 2
}
