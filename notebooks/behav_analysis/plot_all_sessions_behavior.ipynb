{
 "cells": [
  {
   "cell_type": "markdown",
   "metadata": {},
   "source": [
    "# Intro\n",
    "\n",
    "This code generates the standard behavioral plots for each session separately, and saves them as PDFs under the folder `notebooks/behav_analysis/figs/behavior_all_sessions`."
   ]
  },
  {
   "cell_type": "code",
   "execution_count": 1,
   "metadata": {},
   "outputs": [],
   "source": [
    "##% imports\n",
    "import pandas as pd\n",
    "from tqdm import tqdm\n",
    "import os\n",
    "\n",
    "from popy.behavior_data_tools import *\n",
    "from popy.io_tools import get_behavior\n",
    "from popy.plotting.plotting_tools import show_target_selection\n",
    "import popy.config as cfg\n"
   ]
  },
  {
   "attachments": {},
   "cell_type": "markdown",
   "metadata": {},
   "source": [
    "# Run for all sessions, save results as a pdf. "
   ]
  },
  {
   "cell_type": "code",
   "execution_count": 2,
   "metadata": {},
   "outputs": [
    {
     "name": "stderr",
     "output_type": "stream",
     "text": [
      "100%|██████████| 129/129 [02:36<00:00,  1.21s/it]\n"
     ]
    }
   ],
   "source": [
    "base_path = cfg.PROJECT_PATH_LOCAL\n",
    "temp_path = os.path.join(base_path, 'notebooks','behav_analysis', 'figs', 'behavior_all_sessions')\n",
    "#out_path = os.path.join(base_path, 'notebooks','behav_analysis', 'figs', 'behavior', 'all_sessions.pdf')\n",
    "\n",
    "# load all session data\n",
    "all_session_info = pd.read_csv(os.path.join(base_path, 'data', 'recordings_summary.csv'), dtype={'session':str})\n",
    "recs_valid = all_session_info #all_session_info.loc[all_session_info[\"block_len_valid\"] == True]\n",
    "\n",
    "\n",
    "# rows where behav_valid column is true\n",
    "pbar = tqdm(total=len(recs_valid))\n",
    "for i, row in recs_valid.iterrows():\n",
    "    pbar.update(1)\n",
    "    try:\n",
    "        session_data = get_behavior(row['monkey'], row['session'])\n",
    "        session_data = add_phase_info(session_data)\n",
    "\n",
    "        # target selection\n",
    "        show_target_selection(session_data, title=f\"{row['monkey']}_{row['session']}\", background_value=None, show=False, savedir=os.path.join(temp_path, f'{row[\"monkey\"]}{row[\"session\"]}.pdf'),\n",
    "                            add_phase=True)\n",
    "    except Exception as e:\n",
    "        print(f'Error with {row[\"monkey\"]}{row[\"session\"]}', e)\n",
    "        continue\n",
    "pbar.close()"
   ]
  }
 ],
 "metadata": {
  "kernelspec": {
   "display_name": "popy",
   "language": "python",
   "name": "python3"
  },
  "language_info": {
   "codemirror_mode": {
    "name": "ipython",
    "version": 3
   },
   "file_extension": ".py",
   "mimetype": "text/x-python",
   "name": "python",
   "nbconvert_exporter": "python",
   "pygments_lexer": "ipython3",
   "version": "3.10.14"
  },
  "orig_nbformat": 4
 },
 "nbformat": 4,
 "nbformat_minor": 2
}
